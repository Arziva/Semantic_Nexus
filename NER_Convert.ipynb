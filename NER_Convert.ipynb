{
  "nbformat": 4,
  "nbformat_minor": 0,
  "metadata": {
    "colab": {
      "provenance": [],
      "authorship_tag": "ABX9TyMoRqUF5FjwGDwXKGfLnh/y",
      "include_colab_link": true
    },
    "kernelspec": {
      "name": "python3",
      "display_name": "Python 3"
    },
    "language_info": {
      "name": "python"
    }
  },
  "cells": [
    {
      "cell_type": "markdown",
      "metadata": {
        "id": "view-in-github",
        "colab_type": "text"
      },
      "source": [
        "<a href=\"https://colab.research.google.com/github/Arziva/Semantic_Nexus/blob/main/NER_Convert.ipynb\" target=\"_parent\"><img src=\"https://colab.research.google.com/assets/colab-badge.svg\" alt=\"Open In Colab\"/></a>"
      ]
    },
    {
      "cell_type": "code",
      "execution_count": 3,
      "metadata": {
        "colab": {
          "base_uri": "https://localhost:8080/"
        },
        "id": "s1MJIWcEUaFU",
        "outputId": "1ed30548-0ca5-4fb7-b1c8-6fac4fdd006e"
      },
      "outputs": [
        {
          "output_type": "stream",
          "name": "stderr",
          "text": [
            "[nltk_data] Downloading package punkt to /root/nltk_data...\n",
            "[nltk_data]   Package punkt is already up-to-date!\n"
          ]
        }
      ],
      "source": [
        "import pandas as pd\n",
        "import nltk\n",
        "\n",
        "\n",
        "nltk.download('punkt')\n",
        "\n",
        "from nltk.tokenize import sent_tokenize\n",
        "\n",
        "with open(\"ai_tasklevel.txt\", \"r\") as file:\n",
        "    text = file.read()\n",
        "\n",
        "sentences = sent_tokenize(text)\n",
        "\n",
        "data = {\"sentence\": sentences}\n",
        "df = pd.DataFrame(data)\n",
        "\n",
        "\n",
        "df.to_csv(\"output.csv\", index=False)\n"
      ]
    }
  ]
}